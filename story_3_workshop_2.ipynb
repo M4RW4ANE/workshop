{
 "cells": [
  {
   "cell_type": "code",
   "execution_count": null,
   "metadata": {},
   "outputs": [
    {
     "ename": "FileNotFoundError",
     "evalue": "[WinError 3] Le chemin d’accès spécifié est introuvable: 'emails\\\\ham'",
     "output_type": "error",
     "traceback": [
      "\u001b[1;31m---------------------------------------------------------------------------\u001b[0m",
      "\u001b[1;31mFileNotFoundError\u001b[0m                         Traceback (most recent call last)",
      "Cell \u001b[1;32mIn[2], line 40\u001b[0m\n\u001b[0;32m     36\u001b[0m     file_descriptor\u001b[38;5;241m.\u001b[39mclose()\n\u001b[0;32m     37\u001b[0m     \u001b[38;5;28;01mreturn\u001b[39;00m message\n\u001b[1;32m---> 40\u001b[0m readFilesFromDirectory(PATH_TO_HAM_DIR, HAM_TYPE)\n\u001b[0;32m     41\u001b[0m readFilesFromDirectory(PATH_TO_SPAM_DIR, SPAM_TYPE)\n",
      "Cell \u001b[1;32mIn[2], line 18\u001b[0m, in \u001b[0;36mreadFilesFromDirectory\u001b[1;34m(path, classification)\u001b[0m\n\u001b[0;32m     16\u001b[0m \u001b[38;5;28;01mdef\u001b[39;00m \u001b[38;5;21mreadFilesFromDirectory\u001b[39m(path, classification):\n\u001b[0;32m     17\u001b[0m     os\u001b[38;5;241m.\u001b[39mchdir(path)\n\u001b[1;32m---> 18\u001b[0m     files_name \u001b[38;5;241m=\u001b[39m os\u001b[38;5;241m.\u001b[39mlistdir(path)\n\u001b[0;32m     19\u001b[0m     \u001b[38;5;28;01mfor\u001b[39;00m current_file \u001b[38;5;129;01min\u001b[39;00m files_name:\n\u001b[0;32m     20\u001b[0m         message \u001b[38;5;241m=\u001b[39m extract_mail_body(current_file)\n",
      "\u001b[1;31mFileNotFoundError\u001b[0m: [WinError 3] Le chemin d’accès spécifié est introuvable: 'emails\\\\ham'"
     ]
    }
   ],
   "source": [
    "import os\n",
    "#quelques variables globales utiles\n",
    "PATH_TO_HAM_DIR = \"emails\\\\ham\"\n",
    "PATH_TO_SPAM_DIR = \"emails\\\\spam\"\n",
    " \n",
    "SPAM_TYPE = \"SPAM\"\n",
    "HAM_TYPE = \"HAM\"\n",
    " \n",
    "#les tableaux X et Y seront ordonnés et de la même taille\n",
    "# X représente l'input Data (ici les mails)\n",
    "X = []\n",
    "#indique s'il s'agit d'un mail ou non\n",
    "Y = [] #les etiquettes (labels) pour le training set\n",
    " \n",
    " \n",
    "def readFilesFromDirectory(path, classification):\n",
    "    os.chdir(path)\n",
    "    files_name = os.listdir(path)\n",
    "    for current_file in files_name:\n",
    "        message = extract_mail_body(current_file)\n",
    "        X.append(message)\n",
    "        Y.append(classification)\n",
    "        \n",
    "            \n",
    " \n",
    "def extract_mail_body(file_name_str):\n",
    "    inBody = False\n",
    "    lines = []\n",
    "    file_descriptor = io.open(file_name_str,'r', encoding='latin1')\n",
    "    for line in file_descriptor:\n",
    "        if inBody:\n",
    "            lines.append(line)\n",
    "        elif line == '\\n':\n",
    "            inBody = True\n",
    "        message = '\\n'.join(lines)\n",
    "    file_descriptor.close()\n",
    "    return message\n",
    " \n",
    " \n",
    "readFilesFromDirectory(PATH_TO_HAM_DIR, HAM_TYPE)\n",
    "readFilesFromDirectory(PATH_TO_SPAM_DIR, SPAM_TYPE)"
   ]
  }
 ],
 "metadata": {
  "kernelspec": {
   "display_name": "base",
   "language": "python",
   "name": "python3"
  },
  "language_info": {
   "codemirror_mode": {
    "name": "ipython",
    "version": 3
   },
   "file_extension": ".py",
   "mimetype": "text/x-python",
   "name": "python",
   "nbconvert_exporter": "python",
   "pygments_lexer": "ipython3",
   "version": "3.11.5"
  }
 },
 "nbformat": 4,
 "nbformat_minor": 2
}
